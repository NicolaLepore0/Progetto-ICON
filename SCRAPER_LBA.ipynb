{
 "cells": [
  {
   "cell_type": "markdown",
   "id": "7e2b641a",
   "metadata": {
    "id": "7e2b641a"
   },
   "source": [
    "                    PROGETTO ICON\n",
    "                      A.A. 22/23\n",
    "    'Predizioni risultati partite di Pallacanestro'*\n",
    "\n",
    "1. *Creazione del dataset* a partire dalla seguente pagina:\n",
    "https://www.legabasket.it/"
   ]
  },
  {
   "cell_type": "code",
   "execution_count": 2,
   "id": "e07507a5",
   "metadata": {
    "colab": {
     "base_uri": "https://localhost:8080/"
    },
    "id": "e07507a5",
    "outputId": "8cacf786-a22e-4524-daf8-70a3660d5f9e"
   },
   "outputs": [
    {
     "name": "stdout",
     "output_type": "stream",
     "text": [
      "Requirement already satisfied: bs4 in c:\\users\\nicol\\anaconda3\\envs\\untitled\\lib\\site-packages (0.0.1)Note: you may need to restart the kernel to use updated packages.\n",
      "\n",
      "Requirement already satisfied: beautifulsoup4 in c:\\users\\nicol\\anaconda3\\envs\\untitled\\lib\\site-packages (from bs4) (4.11.1)\n",
      "Requirement already satisfied: soupsieve>1.2 in c:\\users\\nicol\\anaconda3\\envs\\untitled\\lib\\site-packages (from beautifulsoup4->bs4) (2.3.2.post1)\n"
     ]
    }
   ],
   "source": [
    "pip install bs4"
   ]
  },
  {
   "cell_type": "markdown",
   "id": "ef916584",
   "metadata": {
    "id": "ef916584"
   },
   "source": [
    "2. Vengono trovate tutte le partite del campionato e vengono inseriti i link all'interno del vettore *link_parite*."
   ]
  },
  {
   "cell_type": "code",
   "execution_count": 2,
   "id": "5007f854",
   "metadata": {
    "id": "5007f854"
   },
   "outputs": [],
   "source": [
    "import requests\n",
    "import re\n",
    "import os\n",
    "from bs4 import BeautifulSoup"
   ]
  },
  {
   "cell_type": "code",
   "execution_count": 32,
   "id": "be6d26e6",
   "metadata": {
    "colab": {
     "base_uri": "https://localhost:8080/"
    },
    "id": "be6d26e6",
    "outputId": "3ecf1751-64f7-49b7-b25b-e344efdae039"
   },
   "outputs": [
    {
     "name": "stdout",
     "output_type": "stream",
     "text": [
      "['https://www.legabasket.it/game/23450', 'https://www.legabasket.it/game/23507', 'https://www.legabasket.it/game/23395', 'https://www.legabasket.it/game/23493', 'https://www.legabasket.it/game/23436', 'https://www.legabasket.it/game/23542', 'https://www.legabasket.it/game/23380', 'https://www.legabasket.it/game/23405', 'https://www.legabasket.it/game/23365', 'https://www.legabasket.it/game/23601', 'https://www.legabasket.it/game/23421', 'https://www.legabasket.it/game/23528', 'https://www.legabasket.it/game/23472', 'https://www.legabasket.it/game/23576', 'https://www.legabasket.it/game/23561', 'https://www.legabasket.it/game/23530', 'https://www.legabasket.it/game/23402', 'https://www.legabasket.it/game/23476', 'https://www.legabasket.it/game/23515', 'https://www.legabasket.it/game/23373', 'https://www.legabasket.it/game/23500', 'https://www.legabasket.it/game/23446', 'https://www.legabasket.it/game/23571', 'https://www.legabasket.it/game/23588', 'https://www.legabasket.it/game/23433', 'https://www.legabasket.it/game/23552', 'https://www.legabasket.it/game/23393', 'https://www.legabasket.it/game/23423', 'https://www.legabasket.it/game/23489', 'https://www.legabasket.it/game/23465', 'https://www.legabasket.it/game/23411', 'https://www.legabasket.it/game/23554', 'https://www.legabasket.it/game/23531', 'https://www.legabasket.it/game/23363', 'https://www.legabasket.it/game/23467', 'https://www.legabasket.it/game/23548', 'https://www.legabasket.it/game/23397', 'https://www.legabasket.it/game/23431', 'https://www.legabasket.it/game/23502', 'https://www.legabasket.it/game/23487', 'https://www.legabasket.it/game/23454', 'https://www.legabasket.it/game/23574', 'https://www.legabasket.it/game/23383', 'https://www.legabasket.it/game/23592', 'https://www.legabasket.it/game/23521', 'https://www.legabasket.it/game/23586', 'https://www.legabasket.it/game/23522', 'https://www.legabasket.it/game/23418', 'https://www.legabasket.it/game/23555', 'https://www.legabasket.it/game/23516', 'https://www.legabasket.it/game/23437', 'https://www.legabasket.it/game/23485', 'https://www.legabasket.it/game/23543', 'https://www.legabasket.it/game/23381', 'https://www.legabasket.it/game/23366', 'https://www.legabasket.it/game/23573', 'https://www.legabasket.it/game/23455', 'https://www.legabasket.it/game/23504', 'https://www.legabasket.it/game/23473', 'https://www.legabasket.it/game/23409', 'https://www.legabasket.it/game/23370', 'https://www.legabasket.it/game/23466', 'https://www.legabasket.it/game/23564', 'https://www.legabasket.it/game/23388', 'https://www.legabasket.it/game/23403', 'https://www.legabasket.it/game/23484', 'https://www.legabasket.it/game/23549', 'https://www.legabasket.it/game/23420', 'https://www.legabasket.it/game/23533', 'https://www.legabasket.it/game/23503', 'https://www.legabasket.it/game/23438', 'https://www.legabasket.it/game/23590', 'https://www.legabasket.it/game/23456', 'https://www.legabasket.it/game/23512', 'https://www.legabasket.it/game/23577', 'https://www.legabasket.it/game/23546', 'https://www.legabasket.it/game/23506', 'https://www.legabasket.it/game/23523', 'https://www.legabasket.it/game/23444', 'https://www.legabasket.it/game/23582', 'https://www.legabasket.it/game/23429', 'https://www.legabasket.it/game/23414', 'https://www.legabasket.it/game/23494', 'https://www.legabasket.it/game/23568', 'https://www.legabasket.it/game/23399', 'https://www.legabasket.it/game/23464', 'https://www.legabasket.it/game/23480', 'https://www.legabasket.it/game/23591', 'https://www.legabasket.it/game/23384', 'https://www.legabasket.it/game/23369', 'https://www.legabasket.it/game/23442', 'https://www.legabasket.it/game/23394', 'https://www.legabasket.it/game/23459', 'https://www.legabasket.it/game/23492', 'https://www.legabasket.it/game/23379', 'https://www.legabasket.it/game/23570', 'https://www.legabasket.it/game/23509', 'https://www.legabasket.it/game/23587', 'https://www.legabasket.it/game/23518', 'https://www.legabasket.it/game/23416', 'https://www.legabasket.it/game/23479', 'https://www.legabasket.it/game/23422', 'https://www.legabasket.it/game/23367', 'https://www.legabasket.it/game/23560', 'https://www.legabasket.it/game/23537', 'https://www.legabasket.it/game/23514', 'https://www.legabasket.it/game/23538', 'https://www.legabasket.it/game/23491', 'https://www.legabasket.it/game/23372', 'https://www.legabasket.it/game/23477', 'https://www.legabasket.it/game/23556', 'https://www.legabasket.it/game/23404', 'https://www.legabasket.it/game/23391', 'https://www.legabasket.it/game/23469', 'https://www.legabasket.it/game/23534', 'https://www.legabasket.it/game/23589', 'https://www.legabasket.it/game/23439', 'https://www.legabasket.it/game/23575', 'https://www.legabasket.it/game/23457', 'https://www.legabasket.it/game/23425', 'https://www.legabasket.it/game/23498', 'https://www.legabasket.it/game/23362', 'https://www.legabasket.it/game/23580', 'https://www.legabasket.it/game/23412', 'https://www.legabasket.it/game/23597', 'https://www.legabasket.it/game/23451', 'https://www.legabasket.it/game/23468', 'https://www.legabasket.it/game/23567', 'https://www.legabasket.it/game/23550', 'https://www.legabasket.it/game/23382', 'https://www.legabasket.it/game/23535', 'https://www.legabasket.it/game/23510', 'https://www.legabasket.it/game/23488', 'https://www.legabasket.it/game/23441', 'https://www.legabasket.it/game/23401', 'https://www.legabasket.it/game/23579', 'https://www.legabasket.it/game/23434', 'https://www.legabasket.it/game/23371', 'https://www.legabasket.it/game/23596', 'https://www.legabasket.it/game/23461', 'https://www.legabasket.it/game/23419', 'https://www.legabasket.it/game/23390', 'https://www.legabasket.it/game/23526', 'https://www.legabasket.it/game/23478', 'https://www.legabasket.it/game/23453', 'https://www.legabasket.it/game/23558', 'https://www.legabasket.it/game/23407', 'https://www.legabasket.it/game/23511', 'https://www.legabasket.it/game/23545', 'https://www.legabasket.it/game/23497', 'https://www.legabasket.it/game/23474', 'https://www.legabasket.it/game/23490', 'https://www.legabasket.it/game/23387', 'https://www.legabasket.it/game/23508', 'https://www.legabasket.it/game/23445', 'https://www.legabasket.it/game/23541', 'https://www.legabasket.it/game/23525', 'https://www.legabasket.it/game/23462', 'https://www.legabasket.it/game/23557', 'https://www.legabasket.it/game/23572', 'https://www.legabasket.it/game/23406', 'https://www.legabasket.it/game/23377', 'https://www.legabasket.it/game/23440', 'https://www.legabasket.it/game/23424', 'https://www.legabasket.it/game/23593', 'https://www.legabasket.it/game/23482', 'https://www.legabasket.it/game/23378', 'https://www.legabasket.it/game/23595', 'https://www.legabasket.it/game/23427', 'https://www.legabasket.it/game/23540', 'https://www.legabasket.it/game/23499', 'https://www.legabasket.it/game/23583', 'https://www.legabasket.it/game/23364', 'https://www.legabasket.it/game/23447', 'https://www.legabasket.it/game/23415', 'https://www.legabasket.it/game/23569', 'https://www.legabasket.it/game/23471', 'https://www.legabasket.it/game/23400', 'https://www.legabasket.it/game/23529', 'https://www.legabasket.it/game/23513', 'https://www.legabasket.it/game/23426', 'https://www.legabasket.it/game/23594', 'https://www.legabasket.it/game/23443', 'https://www.legabasket.it/game/23547', 'https://www.legabasket.it/game/23396', 'https://www.legabasket.it/game/23532', 'https://www.legabasket.it/game/23566', 'https://www.legabasket.it/game/23501', 'https://www.legabasket.it/game/23463', 'https://www.legabasket.it/game/23486', 'https://www.legabasket.it/game/23585', 'https://www.legabasket.it/game/23520', 'https://www.legabasket.it/game/23417', 'https://www.legabasket.it/game/23368', 'https://www.legabasket.it/game/23385', 'https://www.legabasket.it/game/23563', 'https://www.legabasket.it/game/23578', 'https://www.legabasket.it/game/23539', 'https://www.legabasket.it/game/23460', 'https://www.legabasket.it/game/23524', 'https://www.legabasket.it/game/23389', 'https://www.legabasket.it/game/23599', 'https://www.legabasket.it/game/23430', 'https://www.legabasket.it/game/23375', 'https://www.legabasket.it/game/23448', 'https://www.legabasket.it/game/23519', 'https://www.legabasket.it/game/23495', 'https://www.legabasket.it/game/23559', 'https://www.legabasket.it/game/23408', 'https://www.legabasket.it/game/23481', 'https://www.legabasket.it/game/23458', 'https://www.legabasket.it/game/23410', 'https://www.legabasket.it/game/23475', 'https://www.legabasket.it/game/23565', 'https://www.legabasket.it/game/23428', 'https://www.legabasket.it/game/23598', 'https://www.legabasket.it/game/23374', 'https://www.legabasket.it/game/23584', 'https://www.legabasket.it/game/23517', 'https://www.legabasket.it/game/23398', 'https://www.legabasket.it/game/23551', 'https://www.legabasket.it/game/23392', 'https://www.legabasket.it/game/23496', 'https://www.legabasket.it/game/23536', 'https://www.legabasket.it/game/23449', 'https://www.legabasket.it/game/23386', 'https://www.legabasket.it/game/23562', 'https://www.legabasket.it/game/23435', 'https://www.legabasket.it/game/23581', 'https://www.legabasket.it/game/23413', 'https://www.legabasket.it/game/23483', 'https://www.legabasket.it/game/23452', 'https://www.legabasket.it/game/23600', 'https://www.legabasket.it/game/23527', 'https://www.legabasket.it/game/23432', 'https://www.legabasket.it/game/23470', 'https://www.legabasket.it/game/23376', 'https://www.legabasket.it/game/23544', 'https://www.legabasket.it/game/23553', 'https://www.legabasket.it/game/23505']\n"
     ]
    }
   ],
   "source": [
    "URL = \"https://www.legabasket.it/lba/6/calendario/summary-table\"\n",
    "URL21 = \"https://www.legabasket.it/lba/6/calendario/summary-table?s=2021&c=\"\n",
    "URL20 = \"https://www.legabasket.it/lba/6/calendario/summary-table?s=2020&c=\" #NOn funziona\n",
    "URL19 = \"https://www.legabasket.it/lba/6/calendario/summary-table?s=2019&c=\" #Non funziona\n",
    "# 2. scaricare i dati dietro l'URL\n",
    "tabellone = requests.get(URL).text\n",
    "\n",
    "# 3. Selezionare il codice che indica le partite, cioè a partire dal tbody.\n",
    "link_partite = []\n",
    "soup = BeautifulSoup(tabellone, 'html.parser')\n",
    "links = soup.find_all('a', class_='text-decoration-none')\n",
    "\n",
    "# funzione per filtrare i link che contengono \"/game\"\n",
    "def filter_link(link):\n",
    "    return '/game/' in link['href']\n",
    "\n",
    "# utilizzare filter() per selezionare solo i link che contengono \"/game\"\n",
    "filtered_links = list(filter(filter_link, links))\n",
    "for link in filtered_links:\n",
    "    link_partite.append('https://www.legabasket.it'+ link['href'])\n",
    "\n",
    "print(link_partite)"
   ]
  },
  {
   "cell_type": "markdown",
   "id": "e39c0bc3",
   "metadata": {
    "id": "e39c0bc3"
   },
   "source": [
    "3. Viene scaricato l'andamento delle partite dalla sezione *'play by play'* della pagina"
   ]
  },
  {
   "cell_type": "code",
   "execution_count": 35,
   "id": "286d5a64",
   "metadata": {
    "colab": {
     "base_uri": "https://localhost:8080/"
    },
    "id": "286d5a64",
    "outputId": "a7c8903e-290a-465f-f507-e78f0103fec7"
   },
   "outputs": [
    {
     "name": "stdout",
     "output_type": "stream",
     "text": [
      "['https://www.legabasket.it/game/23450/playbyplay', 'https://www.legabasket.it/game/23507/playbyplay', 'https://www.legabasket.it/game/23395/playbyplay', 'https://www.legabasket.it/game/23493/playbyplay', 'https://www.legabasket.it/game/23436/playbyplay', 'https://www.legabasket.it/game/23542/playbyplay', 'https://www.legabasket.it/game/23380/playbyplay', 'https://www.legabasket.it/game/23405/playbyplay', 'https://www.legabasket.it/game/23365/playbyplay', 'https://www.legabasket.it/game/23601/playbyplay', 'https://www.legabasket.it/game/23421/playbyplay', 'https://www.legabasket.it/game/23528/playbyplay', 'https://www.legabasket.it/game/23472/playbyplay', 'https://www.legabasket.it/game/23576/playbyplay', 'https://www.legabasket.it/game/23561/playbyplay', 'https://www.legabasket.it/game/23530/playbyplay', 'https://www.legabasket.it/game/23402/playbyplay', 'https://www.legabasket.it/game/23476/playbyplay', 'https://www.legabasket.it/game/23515/playbyplay', 'https://www.legabasket.it/game/23373/playbyplay', 'https://www.legabasket.it/game/23500/playbyplay', 'https://www.legabasket.it/game/23446/playbyplay', 'https://www.legabasket.it/game/23571/playbyplay', 'https://www.legabasket.it/game/23588/playbyplay', 'https://www.legabasket.it/game/23433/playbyplay', 'https://www.legabasket.it/game/23552/playbyplay', 'https://www.legabasket.it/game/23393/playbyplay', 'https://www.legabasket.it/game/23423/playbyplay', 'https://www.legabasket.it/game/23489/playbyplay', 'https://www.legabasket.it/game/23465/playbyplay', 'https://www.legabasket.it/game/23411/playbyplay', 'https://www.legabasket.it/game/23554/playbyplay', 'https://www.legabasket.it/game/23531/playbyplay', 'https://www.legabasket.it/game/23363/playbyplay', 'https://www.legabasket.it/game/23467/playbyplay', 'https://www.legabasket.it/game/23548/playbyplay', 'https://www.legabasket.it/game/23397/playbyplay', 'https://www.legabasket.it/game/23431/playbyplay', 'https://www.legabasket.it/game/23502/playbyplay', 'https://www.legabasket.it/game/23487/playbyplay', 'https://www.legabasket.it/game/23454/playbyplay', 'https://www.legabasket.it/game/23574/playbyplay', 'https://www.legabasket.it/game/23383/playbyplay', 'https://www.legabasket.it/game/23592/playbyplay', 'https://www.legabasket.it/game/23521/playbyplay', 'https://www.legabasket.it/game/23586/playbyplay', 'https://www.legabasket.it/game/23522/playbyplay', 'https://www.legabasket.it/game/23418/playbyplay', 'https://www.legabasket.it/game/23555/playbyplay', 'https://www.legabasket.it/game/23516/playbyplay', 'https://www.legabasket.it/game/23437/playbyplay', 'https://www.legabasket.it/game/23485/playbyplay', 'https://www.legabasket.it/game/23543/playbyplay', 'https://www.legabasket.it/game/23381/playbyplay', 'https://www.legabasket.it/game/23366/playbyplay', 'https://www.legabasket.it/game/23573/playbyplay', 'https://www.legabasket.it/game/23455/playbyplay', 'https://www.legabasket.it/game/23504/playbyplay', 'https://www.legabasket.it/game/23473/playbyplay', 'https://www.legabasket.it/game/23409/playbyplay', 'https://www.legabasket.it/game/23370/playbyplay', 'https://www.legabasket.it/game/23466/playbyplay', 'https://www.legabasket.it/game/23564/playbyplay', 'https://www.legabasket.it/game/23388/playbyplay', 'https://www.legabasket.it/game/23403/playbyplay', 'https://www.legabasket.it/game/23484/playbyplay', 'https://www.legabasket.it/game/23549/playbyplay', 'https://www.legabasket.it/game/23420/playbyplay', 'https://www.legabasket.it/game/23533/playbyplay', 'https://www.legabasket.it/game/23503/playbyplay', 'https://www.legabasket.it/game/23438/playbyplay', 'https://www.legabasket.it/game/23590/playbyplay', 'https://www.legabasket.it/game/23456/playbyplay', 'https://www.legabasket.it/game/23512/playbyplay', 'https://www.legabasket.it/game/23577/playbyplay', 'https://www.legabasket.it/game/23546/playbyplay', 'https://www.legabasket.it/game/23506/playbyplay', 'https://www.legabasket.it/game/23523/playbyplay', 'https://www.legabasket.it/game/23444/playbyplay', 'https://www.legabasket.it/game/23582/playbyplay', 'https://www.legabasket.it/game/23429/playbyplay', 'https://www.legabasket.it/game/23414/playbyplay', 'https://www.legabasket.it/game/23494/playbyplay', 'https://www.legabasket.it/game/23568/playbyplay', 'https://www.legabasket.it/game/23399/playbyplay', 'https://www.legabasket.it/game/23464/playbyplay', 'https://www.legabasket.it/game/23480/playbyplay', 'https://www.legabasket.it/game/23591/playbyplay', 'https://www.legabasket.it/game/23384/playbyplay', 'https://www.legabasket.it/game/23369/playbyplay', 'https://www.legabasket.it/game/23442/playbyplay', 'https://www.legabasket.it/game/23394/playbyplay', 'https://www.legabasket.it/game/23459/playbyplay', 'https://www.legabasket.it/game/23492/playbyplay', 'https://www.legabasket.it/game/23379/playbyplay', 'https://www.legabasket.it/game/23570/playbyplay', 'https://www.legabasket.it/game/23509/playbyplay', 'https://www.legabasket.it/game/23587/playbyplay', 'https://www.legabasket.it/game/23518/playbyplay', 'https://www.legabasket.it/game/23416/playbyplay', 'https://www.legabasket.it/game/23479/playbyplay', 'https://www.legabasket.it/game/23422/playbyplay', 'https://www.legabasket.it/game/23367/playbyplay', 'https://www.legabasket.it/game/23560/playbyplay', 'https://www.legabasket.it/game/23537/playbyplay', 'https://www.legabasket.it/game/23514/playbyplay', 'https://www.legabasket.it/game/23538/playbyplay', 'https://www.legabasket.it/game/23491/playbyplay', 'https://www.legabasket.it/game/23372/playbyplay', 'https://www.legabasket.it/game/23477/playbyplay', 'https://www.legabasket.it/game/23556/playbyplay', 'https://www.legabasket.it/game/23404/playbyplay', 'https://www.legabasket.it/game/23391/playbyplay', 'https://www.legabasket.it/game/23469/playbyplay', 'https://www.legabasket.it/game/23534/playbyplay', 'https://www.legabasket.it/game/23589/playbyplay', 'https://www.legabasket.it/game/23439/playbyplay', 'https://www.legabasket.it/game/23575/playbyplay', 'https://www.legabasket.it/game/23457/playbyplay', 'https://www.legabasket.it/game/23425/playbyplay', 'https://www.legabasket.it/game/23498/playbyplay', 'https://www.legabasket.it/game/23362/playbyplay', 'https://www.legabasket.it/game/23580/playbyplay', 'https://www.legabasket.it/game/23412/playbyplay', 'https://www.legabasket.it/game/23597/playbyplay', 'https://www.legabasket.it/game/23451/playbyplay', 'https://www.legabasket.it/game/23468/playbyplay', 'https://www.legabasket.it/game/23567/playbyplay', 'https://www.legabasket.it/game/23550/playbyplay', 'https://www.legabasket.it/game/23382/playbyplay', 'https://www.legabasket.it/game/23535/playbyplay', 'https://www.legabasket.it/game/23510/playbyplay', 'https://www.legabasket.it/game/23488/playbyplay', 'https://www.legabasket.it/game/23441/playbyplay', 'https://www.legabasket.it/game/23401/playbyplay', 'https://www.legabasket.it/game/23579/playbyplay', 'https://www.legabasket.it/game/23434/playbyplay', 'https://www.legabasket.it/game/23371/playbyplay', 'https://www.legabasket.it/game/23596/playbyplay', 'https://www.legabasket.it/game/23461/playbyplay', 'https://www.legabasket.it/game/23419/playbyplay', 'https://www.legabasket.it/game/23390/playbyplay', 'https://www.legabasket.it/game/23526/playbyplay', 'https://www.legabasket.it/game/23478/playbyplay', 'https://www.legabasket.it/game/23453/playbyplay', 'https://www.legabasket.it/game/23558/playbyplay', 'https://www.legabasket.it/game/23407/playbyplay', 'https://www.legabasket.it/game/23511/playbyplay', 'https://www.legabasket.it/game/23545/playbyplay', 'https://www.legabasket.it/game/23497/playbyplay', 'https://www.legabasket.it/game/23474/playbyplay', 'https://www.legabasket.it/game/23490/playbyplay', 'https://www.legabasket.it/game/23387/playbyplay', 'https://www.legabasket.it/game/23508/playbyplay', 'https://www.legabasket.it/game/23445/playbyplay', 'https://www.legabasket.it/game/23541/playbyplay', 'https://www.legabasket.it/game/23525/playbyplay', 'https://www.legabasket.it/game/23462/playbyplay', 'https://www.legabasket.it/game/23557/playbyplay', 'https://www.legabasket.it/game/23572/playbyplay', 'https://www.legabasket.it/game/23406/playbyplay', 'https://www.legabasket.it/game/23377/playbyplay', 'https://www.legabasket.it/game/23440/playbyplay', 'https://www.legabasket.it/game/23424/playbyplay', 'https://www.legabasket.it/game/23593/playbyplay', 'https://www.legabasket.it/game/23482/playbyplay', 'https://www.legabasket.it/game/23378/playbyplay', 'https://www.legabasket.it/game/23595/playbyplay', 'https://www.legabasket.it/game/23427/playbyplay', 'https://www.legabasket.it/game/23540/playbyplay', 'https://www.legabasket.it/game/23499/playbyplay', 'https://www.legabasket.it/game/23583/playbyplay', 'https://www.legabasket.it/game/23364/playbyplay', 'https://www.legabasket.it/game/23447/playbyplay', 'https://www.legabasket.it/game/23415/playbyplay', 'https://www.legabasket.it/game/23569/playbyplay', 'https://www.legabasket.it/game/23471/playbyplay', 'https://www.legabasket.it/game/23400/playbyplay', 'https://www.legabasket.it/game/23529/playbyplay', 'https://www.legabasket.it/game/23513/playbyplay', 'https://www.legabasket.it/game/23426/playbyplay', 'https://www.legabasket.it/game/23594/playbyplay', 'https://www.legabasket.it/game/23443/playbyplay', 'https://www.legabasket.it/game/23547/playbyplay', 'https://www.legabasket.it/game/23396/playbyplay', 'https://www.legabasket.it/game/23532/playbyplay', 'https://www.legabasket.it/game/23566/playbyplay', 'https://www.legabasket.it/game/23501/playbyplay', 'https://www.legabasket.it/game/23463/playbyplay', 'https://www.legabasket.it/game/23486/playbyplay', 'https://www.legabasket.it/game/23585/playbyplay', 'https://www.legabasket.it/game/23520/playbyplay', 'https://www.legabasket.it/game/23417/playbyplay', 'https://www.legabasket.it/game/23368/playbyplay', 'https://www.legabasket.it/game/23385/playbyplay', 'https://www.legabasket.it/game/23563/playbyplay', 'https://www.legabasket.it/game/23578/playbyplay', 'https://www.legabasket.it/game/23539/playbyplay', 'https://www.legabasket.it/game/23460/playbyplay', 'https://www.legabasket.it/game/23524/playbyplay', 'https://www.legabasket.it/game/23389/playbyplay', 'https://www.legabasket.it/game/23599/playbyplay', 'https://www.legabasket.it/game/23430/playbyplay', 'https://www.legabasket.it/game/23375/playbyplay', 'https://www.legabasket.it/game/23448/playbyplay', 'https://www.legabasket.it/game/23519/playbyplay', 'https://www.legabasket.it/game/23495/playbyplay', 'https://www.legabasket.it/game/23559/playbyplay', 'https://www.legabasket.it/game/23408/playbyplay', 'https://www.legabasket.it/game/23481/playbyplay', 'https://www.legabasket.it/game/23458/playbyplay', 'https://www.legabasket.it/game/23410/playbyplay', 'https://www.legabasket.it/game/23475/playbyplay', 'https://www.legabasket.it/game/23565/playbyplay', 'https://www.legabasket.it/game/23428/playbyplay', 'https://www.legabasket.it/game/23598/playbyplay', 'https://www.legabasket.it/game/23374/playbyplay', 'https://www.legabasket.it/game/23584/playbyplay', 'https://www.legabasket.it/game/23517/playbyplay', 'https://www.legabasket.it/game/23398/playbyplay', 'https://www.legabasket.it/game/23551/playbyplay', 'https://www.legabasket.it/game/23392/playbyplay', 'https://www.legabasket.it/game/23496/playbyplay', 'https://www.legabasket.it/game/23536/playbyplay', 'https://www.legabasket.it/game/23449/playbyplay', 'https://www.legabasket.it/game/23386/playbyplay', 'https://www.legabasket.it/game/23562/playbyplay', 'https://www.legabasket.it/game/23435/playbyplay', 'https://www.legabasket.it/game/23581/playbyplay', 'https://www.legabasket.it/game/23413/playbyplay', 'https://www.legabasket.it/game/23483/playbyplay', 'https://www.legabasket.it/game/23452/playbyplay', 'https://www.legabasket.it/game/23600/playbyplay', 'https://www.legabasket.it/game/23527/playbyplay', 'https://www.legabasket.it/game/23432/playbyplay', 'https://www.legabasket.it/game/23470/playbyplay', 'https://www.legabasket.it/game/23376/playbyplay', 'https://www.legabasket.it/game/23544/playbyplay', 'https://www.legabasket.it/game/23553/playbyplay', 'https://www.legabasket.it/game/23505/playbyplay']\n"
     ]
    }
   ],
   "source": [
    "playbyplay_list = link_partite.copy()\n",
    "i = int(0)\n",
    "for link in  playbyplay_list:\n",
    "    playbyplay_list[i] = link + '/playbyplay'\n",
    "    i = i+1\n",
    "print(playbyplay_list)"
   ]
  },
  {
   "cell_type": "code",
   "execution_count": 36,
   "outputs": [],
   "source": [
    "import unidecode\n",
    "def clean_names(names_string):\n",
    "    cleaned_names = unidecode.unidecode(names_string)\n",
    "    cleaned_names = cleaned_names.lower()\n",
    "    cleaned_names = ''.join(e for e in cleaned_names if e.isalnum() or e == ' ')\n",
    "    cleaned_names = cleaned_names.replace(\".\", \"\")\n",
    "    cleaned_names = cleaned_names.replace(\"\\n\", \"\")\n",
    "    cleaned_names = '_'.join(cleaned_names.split())\n",
    "    return cleaned_names"
   ],
   "metadata": {
    "collapsed": false
   }
  },
  {
   "cell_type": "markdown",
   "source": [
    "4. Creazione di un *dizionario* in cui inserire i *nomi delle squadre* e il rispettivo *codice*"
   ],
   "metadata": {
    "collapsed": false
   }
  },
  {
   "cell_type": "code",
   "execution_count": 10,
   "id": "9d671133",
   "metadata": {
    "colab": {
     "base_uri": "https://localhost:8080/"
    },
    "id": "9d671133",
    "outputId": "76e2786b-5a9f-4be6-9097-594606a52dd6"
   },
   "outputs": [
    {
     "name": "stdout",
     "output_type": "stream",
     "text": [
      "{0: 'banco_di_sardegna_sassari', 1: 'bertram_yachts_derthona_tortona', 2: 'carpegna_prosciutto_pesaro', 3: 'dolomiti_energia_trentino', 4: 'ea7_emporio_armani_milano', 5: 'germani_brescia', 6: 'gevi_napoli_basket', 7: 'givova_scafati', 8: 'happy_casa_brindisi', 9: 'nutribullet_treviso_basket', 10: 'openjobmetis_varese', 11: 'pallacanestro_trieste', 12: 'tezenis_verona', 13: 'umana_reyer_venezia', 14: 'unahotels_reggio_emilia', 15: 'virtus_segafredo_bologna'}\n"
     ]
    }
   ],
   "source": [
    "URL = 'https://www.legabasket.it/lba/3/squadre'\n",
    "squadre = requests.get(URL).text\n",
    "soup = BeautifulSoup(squadre, 'html.parser')\n",
    "teams = []\n",
    "teams = [info.text for info in soup.find_all('h5', {'class': 'card-title team-name', 'itemprop': 'name headline'})]\n",
    "i = int(0)\n",
    "diz_squadre = {}\n",
    "for team in teams:\n",
    "    teams[i] = clean_names(teams[i])\n",
    "    diz_squadre.update({i : teams[i]})\n",
    "    i = i+1\n",
    "\n",
    "with open(\"dataset/squadre.txt\", \"w\") as file:\n",
    "    for elemento in teams:\n",
    "        file.write(str(elemento) + \"\\n\")\n",
    "print(diz_squadre)"
   ]
  },
  {
   "cell_type": "markdown",
   "id": "Vf3aXOtZNUvq",
   "metadata": {
    "id": "Vf3aXOtZNUvq"
   },
   "source": [
    "5. Vengono covertite le azioni con degli acronimi per rendere il dataset di più facile lettura\n",
    "\n",
    "(*Serviranno in seguito per il calcolo di determinate variabili per il calcolo di statistiche*)"
   ]
  },
  {
   "cell_type": "code",
   "execution_count": 6,
   "id": "VvOpnl8JMkVx",
   "metadata": {
    "id": "VvOpnl8JMkVx"
   },
   "outputs": [],
   "source": [
    "def converti_azioni(event_list):\n",
    "    for i in range(len(event_list)):\n",
    "      if \"Fallocommesso\" in event_list[i] : event_list[i] = \"FF\"\n",
    "      elif \"FalloSubito\" in event_list[i] : event_list[i] = \"FS\"\n",
    "      elif \"Pallapersa\" in event_list[i] : event_list[i] = \"PP\"\n",
    "      elif \"Pallarecuperata\" in event_list[i] : event_list[i] = \"PR\"\n",
    "      elif \"Rimbalzodifensiv\" in event_list[i] : event_list[i] = \"RD\"\n",
    "      elif \"Rimbalzooffensiv\" in event_list[i] : event_list[i] = \"RO\"\n",
    "      elif \"StoppataSubita\" in event_list[i] : event_list[i] = \"SS\"\n",
    "      elif \"Stoppata\" in event_list[i] : event_list[i] = \"SD\"\n",
    "      elif \"2puntisegnato\" in event_list[i] : event_list[i] = \"T2+\"\n",
    "      elif \"3puntisegnato\" in event_list[i] : event_list[i] = \"T3+\"\n",
    "      elif \"Tiroliberosegnato\" in event_list[i] : event_list[i] = \"T1+\"\n",
    "      elif \"2puntisbagliato\" in event_list[i] : event_list[i] = \"T2-\"\n",
    "      elif \"3puntisbagliato\" in event_list[i] : event_list[i] = \"T3-\"\n",
    "      elif \"Tiroliberosbagliato\" in event_list[i] : event_list[i] = \"T1-\"\n",
    "      elif \"Ingresso\" in event_list[i] : event_list[i] = \"IN\"\n",
    "      elif \"Uscita\" in event_list[i] : event_list[i] = \"OUT\"\n",
    "      elif \"Assist\" in event_list[i] : event_list[i] = \"AS\"\n",
    "      elif \"InizioTempo\" in event_list[i] : event_list[i] = \"SQ\"\n",
    "      elif \"FineTempo\" in event_list[i] : event_list[i] = \"EQ\"\n",
    "      elif \"TimeOut\" in event_list[i] : event_list[i] = \"TO\"\n",
    "      elif \"Rimbalz\" in event_list[i] : event_list[i] = \"RT\"\n",
    "      elif \"Pallacontesa\" in event_list[i] : event_list[i] = \"\"\n",
    "      elif \"Pallerecuperate\" in event_list[i] : event_list[i] = \"PR\"\n",
    "    return event_list"
   ]
  },
  {
   "cell_type": "markdown",
   "id": "7DYdKO4_q4Dh",
   "metadata": {
    "id": "7DYdKO4_q4Dh"
   },
   "source": [
    "6. Creazione classi *'Partita'*, *'Evento'* e *'Giocatore'*"
   ]
  },
  {
   "cell_type": "code",
   "execution_count": 7,
   "id": "CvbKuCoTLiTN",
   "metadata": {
    "id": "CvbKuCoTLiTN"
   },
   "outputs": [],
   "source": [
    "from Partita_class import *\n",
    "from ProfiloGiocatore_class import *"
   ]
  },
  {
   "cell_type": "markdown",
   "id": "1fM8zLCgrIIu",
   "metadata": {
    "id": "1fM8zLCgrIIu"
   },
   "source": [
    "7. Creazione funzione per la creazione di una *'partita'*"
   ]
  },
  {
   "cell_type": "code",
   "execution_count": 48,
   "id": "503c2605",
   "metadata": {
    "id": "503c2605"
   },
   "outputs": [],
   "source": [
    "def playbyplay(URL):\n",
    "    partita = requests.get(URL).text\n",
    "    soup = BeautifulSoup(partita, 'html.parser')\n",
    "\n",
    "    num_home_player = []\n",
    "    num_guest_player = []\n",
    "\n",
    "    #DATI FISSI\n",
    "    #Squadra casa\n",
    "    home = clean_names(soup.find('h5', class_='text-uppercase text-start mt-5').text.replace(\"  \", \"\"))\n",
    "\n",
    "    #Squadra ospite\n",
    "    guest = clean_names(soup.find('h5', class_='text-uppercase text-end mt-5').text.replace(\"  \", \"\"))\n",
    "\n",
    "    if soup.find('button', {'class':'nav-link', 'id':'playbyplay-tab'}) == None:\n",
    "        return Partita(home, guest, \"0\", \"0\")\n",
    "\n",
    "    #DATI VARIABILI\n",
    "\n",
    "    #Estrarre il punteggio casa\n",
    "    score_home = [info.text.replace(\" \", \"\") for info in soup.find_all('div', class_='col score big-shoulders text-orange')]\n",
    "\n",
    "    #Estrarre il punteggio ospite\n",
    "    score_guest = [info.text.replace(\" \", \"\") for info in soup.find_all('div', class_='col score big-shoulders text-secondary')]\n",
    "\n",
    "    #Estrarre il quarto\n",
    "    quarter = [info.text.replace(\" \", \"\").replace(\"\\n\", \"\") for info in soup.find_all('div', class_='quarter')]\n",
    "\n",
    "    #Estrarre il tempo\n",
    "    time = [info.text.replace(\" \", \"\").replace(\"\\n\", \"\").replace(\":\", \".\") for info in soup.find_all('div', class_='col-12 text-center')]\n",
    "\n",
    "    #AZIONE OSPITE\n",
    "    #Estrarre lista eventi ospite\n",
    "    event_guest = [info.text.replace(\" \", \"\").replace(\"\\n\", \"\") for info in soup.find_all('div', class_='col d-flex align-items-center justify-content-end event')]\n",
    "    event_guest_player = [info.text.replace(\"\\n\", \" \").replace(\"\\xa0\", \" \").replace(\"  \", \"\") for info in soup.find_all('div', class_='col col-auto d-flex align-items-center big-shoulders player')]\n",
    "\n",
    "    #AZIONE CASA\n",
    "    #Estrarre lista eventi casa\n",
    "    event_home = [info.text.replace(\" \", \"\").replace(\"\\n\", \"\") for info in soup.find_all('div', class_='col d-flex align-items-center event')]\n",
    "    event_home_player = [info.text.replace(\"\\xa0\", \" \").replace(\"  \", \"\").replace(\"\\n\", \"\") for info in soup.find_all('div', class_='col d-flex align-items-center col-auto big-shoulders player')]\n",
    "\n",
    "    event_guest = converti_azioni(event_guest)\n",
    "    event_home = converti_azioni(event_home)\n",
    "\n",
    "    #Numero giocatore casa/ospite\n",
    "    i = int(0)\n",
    "    for player in event_home_player:\n",
    "        num_home_player.append(trova_numero(event_home_player[i]))\n",
    "        num_guest_player.append(trova_numero(event_guest_player[i]))\n",
    "        i= i+1\n",
    "\n",
    "    #Elimina numero giocatore casa/ospite\n",
    "    i = int(0)\n",
    "    for player in event_home_player:\n",
    "        event_home_player[i] = clean_names(re.sub(r'\\d+','', event_home_player[i]))\n",
    "        event_guest_player[i] = clean_names(re.sub(r'\\d+','', event_guest_player[i]))\n",
    "        i= i+1\n",
    "\n",
    "    #CREAZIONE INCONTRO\n",
    "    incontro = Partita(home, guest, score_max(score_home), score_max(score_guest))\n",
    "    i = int(0)\n",
    "    for avvenimento in score_home:\n",
    "        incontro.eventi.append(Evento(score_home[i], score_guest[i], event(event_guest,event_home, i),quarter[i],time[i],Giocatore(nome_g(i,event_home_player,event_guest_player),numero_g(event_home, i, num_home_player, num_guest_player),squadra(event_home,i,home ,guest))))\n",
    "        i = i+1\n",
    "\n",
    "    incontro.eventi = list(reversed(incontro.eventi))\n",
    "    return incontro"
   ]
  },
  {
   "cell_type": "markdown",
   "id": "pMOwqC0jrTdj",
   "metadata": {
    "id": "pMOwqC0jrTdj"
   },
   "source": [
    "8. Funzioni di supporto"
   ]
  },
  {
   "cell_type": "code",
   "execution_count": 47,
   "id": "vx9vCH_AldOR",
   "metadata": {
    "id": "vx9vCH_AldOR"
   },
   "outputs": [],
   "source": [
    "def event(event_guest,event_home, pos):\n",
    "    if event_guest[pos] != \"\":\n",
    "      return event_guest[pos]\n",
    "    else: return event_home[pos]\n",
    "def squadra(event_home,pos,home,guest):\n",
    "    if event_home[pos] != \"\":\n",
    "      return home\n",
    "    else: return guest\n",
    "def numero_g(event_home, pos, num_home_player, num_guest_player):\n",
    "    if event_home[pos] != \"\":\n",
    "      return num_home_player[pos]\n",
    "    else: return num_guest_player[pos]\n",
    "def nome_g(pos,event_home_player,event_guest_player):\n",
    "    if event_home_player[pos] != \"\":\n",
    "      return event_home_player[pos]\n",
    "    else: return event_guest_player[pos]\n",
    "def trova_numero(string):\n",
    "    match = re.search(r'\\d+', string)\n",
    "    if match:\n",
    "        return match.group().replace(\"  \", \"\")\n",
    "    else:\n",
    "        return \" \"\n",
    "def score_max(list):\n",
    "    score_max = 0\n",
    "    for element in list:\n",
    "        if int(element) > score_max:\n",
    "            score_max = int(element)\n",
    "    return score_max"
   ]
  },
  {
   "cell_type": "markdown",
   "id": "TJMKkSJHhVET",
   "metadata": {
    "id": "TJMKkSJHhVET"
   },
   "source": [
    "Scraper tabella giocatori"
   ]
  },
  {
   "cell_type": "code",
   "execution_count": null,
   "id": "JfBY861ahUEi",
   "metadata": {
    "colab": {
     "base_uri": "https://localhost:8080/"
    },
    "id": "JfBY861ahUEi",
    "outputId": "c52522c1-1937-45e7-aa8c-9c3875dbd9d4"
   },
   "outputs": [],
   "source": [
    "URL = \"https://www.legabasket.it/lba/4/giocatori\"\n",
    "# 2. scaricare i dati dietro l'URL\n",
    "giocatori = requests.get(URL).text\n",
    "\n",
    "# 3. Selezionare il codice che indica le partite, cioè a partire dal tbody.\n",
    "link_giocatori = []\n",
    "soup = BeautifulSoup(giocatori, 'html.parser')\n",
    "links = soup.find_all('a', class_='card card-player col-3 col-sm-4 col-lg-2')\n",
    "\n",
    "# funzione per filtrare i link che contengono \"/game\"\n",
    "def filter_link(link):\n",
    "    return link['href']\n",
    "\n",
    "# utilizzare filter() per selezionare solo i link che contengono \"/game\"\n",
    "filtered_links = list(filter(filter_link, links))\n",
    "for link in filtered_links:\n",
    "    link_giocatori.append('https://www.legabasket.it'+ link['href'])\n",
    "\n",
    "print(link_giocatori)"
   ]
  },
  {
   "cell_type": "markdown",
   "id": "W2BFnV0Q4PNB",
   "metadata": {
    "id": "W2BFnV0Q4PNB"
   },
   "source": [
    "I valori nel campo medie sono salvate con l'ordine nell immagine:![Immagine 2023-01-27 163936.png](data:image/png;base64,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)\n",
    "\n",
    "Dove: O = offensivi, D = difensivi, T = tentati, R = realizzati,palle P = perse, palle R = recuperate"
   ]
  },
  {
   "cell_type": "code",
   "execution_count": null,
   "id": "QZMIDI7ilNop",
   "metadata": {
    "id": "QZMIDI7ilNop"
   },
   "outputs": [],
   "source": [
    "def to_lower_and_dashed(s):\n",
    "    return s.lower().replace(\"-\",\"_\").replace(\".\",\"_\").replace(\" \", \"_\").replace(\"'\",\"_\").replace(\"ò\",\"o\")\n",
    "def crea_Giocatore(URL):\n",
    "    URL_giocatore = requests.get(URL).text\n",
    "    soup = BeautifulSoup(URL_giocatore, 'html.parser')\n",
    "\n",
    "    numero_giocatore = soup.find('h1', {'class':'text-uppercase mb-5', 'itemprop':'name'}).find(\"span\", class_=\"text-orange\").text\n",
    "    parte_prima, nome_giocatore = os.path.split(URL)\n",
    "    nome_giocatore = nome_giocatore.replace(\"-\",\"_\")\n",
    "    squadra = clean_names(soup.find('div', class_ = \"team-logo col-sm-4 col-lg-12 mb-1 mb-lg-3 mb-xl-5\").find(\"img\")[\"title\"])\n",
    "    ruolo = soup.find('strong', class_ = \"player-role text-orange\").text.split(\"/\")[0]\n",
    "    if ruolo == \"Playmaker\":\n",
    "        ruolo = \"Play\"\n",
    "    if ruolo==\"-\":\n",
    "        ruolo = None\n",
    "    altezza =  soup.find('span', {'class':'numero', 'itemprop':'height'}).text\n",
    "\n",
    "    giocatore = ProfiloGiocatore(nome_giocatore, numero_giocatore, to_lower_and_dashed(squadra), ruolo, altezza)\n",
    "    medie= []\n",
    "    try:\n",
    "        m = soup.find(\"td\", class_ = \"result big-shoulders\",text=\"MEDIE\").find_parent(\"tr\")\n",
    "        for td in m.find_all(\"td\"):\n",
    "            try:\n",
    "                medie.append(float(td.text.replace(\",\", \".\").replace(\"NaN\",\"0.0\")))\n",
    "            except ValueError:\n",
    "                pass\n",
    "\n",
    "        giocatore.minuti = medie[4]\n",
    "        giocatore.FALLI_C = medie[5]\n",
    "        giocatore.FALLI_S = medie[6]\n",
    "        giocatore.T2_R = medie[7]\n",
    "        giocatore.T2_T = medie[8]\n",
    "        giocatore.T2_PER = medie[9]\n",
    "        giocatore.T3_R = medie[11]\n",
    "        giocatore.T3_T = medie[12]\n",
    "        giocatore.T3_PER = medie[13]\n",
    "        giocatore.T1_R = medie[14]\n",
    "        giocatore.T1_T = medie[15]\n",
    "        giocatore.T1_PER = medie[16]\n",
    "        giocatore.RIM_O = medie[17]\n",
    "        giocatore.RIM_D = medie[18]\n",
    "        giocatore.RIM_T = medie[19]\n",
    "        giocatore.STOP_D = medie[20]\n",
    "        giocatore.STOP_S = medie[21]\n",
    "        giocatore.PALLE_P = medie[22]\n",
    "        giocatore.PALLE_R = medie[24]\n",
    "        giocatore.ASS = medie[25]\n",
    "    except: pass\n",
    "    return giocatore"
   ]
  },
  {
   "cell_type": "code",
   "execution_count": null,
   "id": "5z_6y72-lN7M",
   "metadata": {
    "colab": {
     "base_uri": "https://localhost:8080/"
    },
    "id": "5z_6y72-lN7M",
    "outputId": "3129f4f1-727c-4770-a42a-f8258d38129c"
   },
   "outputs": [],
   "source": [
    "import csv\n",
    "i = int()\n",
    "giocatori = []\n",
    "with open(\"dataset\\giocatori.csv\", \"w\", newline=\"\") as file:\n",
    "    scrittore = csv.writer(file)\n",
    "    scrittore.writerow([\"nome_giocatore\", \"numero_giocatore\", \"squadra\",\"ruolo\",\"altezza\",\"minuti\", \"falli_c\", \"falli_s\", \"t2_r\", \"t2_t\", \"t2_per\", \"t3_r\", \"t3_t\", \"t3_per\", \"t1_r\", \"t1_t\", \"t1_per\", \"rim_o\", \"rim_d\", \"rim_t\", \"stop_d\", \"stop_s\", \"palle_p\", \"palle_r\", \"ass\"])\n",
    "    for gio in link_giocatori:\n",
    "      giocatori.append(crea_Giocatore(link_giocatori[i]))\n",
    "      scrittore.writerow(giocatori[i].__iter__())\n",
    "      print(\"giocatore: \"+ str(giocatori[i].nome_giocatore) + \" salvato\")\n",
    "      i = i+1"
   ]
  },
  {
   "cell_type": "markdown",
   "source": [
    "Main scraper per salvare le partite in un file *.json*"
   ],
   "metadata": {
    "collapsed": false
   }
  },
  {
   "cell_type": "code",
   "execution_count": 49,
   "outputs": [
    {
     "name": "stdout",
     "output_type": "stream",
     "text": [
      "partita:0 salvata\n",
      "partita:1 salvata\n",
      "partita:2 salvata\n",
      "partita:3 salvata\n",
      "partita:4 salvata\n",
      "partita:5 salvata\n",
      "partita:6 salvata\n",
      "partita:7 salvata\n",
      "partita:8 salvata\n",
      "partita:9 salvata\n",
      "partita:10 salvata\n",
      "partita:11 salvata\n",
      "partita:12 salvata\n",
      "partita:13 salvata\n",
      "partita:14 salvata\n",
      "partita:15 salvata\n",
      "partita:16 salvata\n",
      "partita:17 salvata\n",
      "partita:18 salvata\n",
      "partita:19 salvata\n",
      "partita:20 salvata\n",
      "partita:21 salvata\n",
      "partita:22 salvata\n",
      "partita:23 salvata\n",
      "partita:24 salvata\n",
      "partita:25 salvata\n",
      "partita:26 salvata\n",
      "partita:27 salvata\n",
      "partita:28 salvata\n",
      "partita:29 salvata\n",
      "partita:30 salvata\n",
      "partita:31 salvata\n",
      "partita:32 salvata\n",
      "partita:33 salvata\n",
      "partita:34 salvata\n",
      "partita:35 salvata\n",
      "partita:36 salvata\n",
      "partita:37 salvata\n",
      "partita:38 salvata\n",
      "partita:39 salvata\n",
      "partita:40 salvata\n",
      "partita:41 salvata\n",
      "partita:42 salvata\n",
      "partita:43 salvata\n",
      "partita:44 salvata\n",
      "partita:45 salvata\n",
      "partita:46 salvata\n",
      "partita:47 salvata\n",
      "partita:48 salvata\n",
      "partita:49 salvata\n",
      "partita:50 salvata\n",
      "partita:51 salvata\n",
      "partita:52 salvata\n",
      "partita:53 salvata\n",
      "partita:54 salvata\n",
      "partita:55 salvata\n",
      "partita:56 salvata\n",
      "partita:57 salvata\n",
      "partita:58 salvata\n",
      "partita:59 salvata\n",
      "partita:60 salvata\n",
      "partita:61 salvata\n",
      "partita:62 salvata\n",
      "partita:63 salvata\n",
      "partita:64 salvata\n",
      "partita:65 salvata\n",
      "partita:66 salvata\n",
      "partita:67 salvata\n",
      "partita:68 salvata\n",
      "partita:69 salvata\n",
      "partita:70 salvata\n",
      "partita:71 salvata\n",
      "partita:72 salvata\n",
      "partita:73 salvata\n",
      "partita:74 salvata\n",
      "partita:75 salvata\n",
      "partita:76 salvata\n",
      "partita:77 salvata\n",
      "partita:78 salvata\n",
      "partita:79 salvata\n",
      "partita:80 salvata\n",
      "partita:81 salvata\n",
      "partita:82 salvata\n",
      "partita:83 salvata\n",
      "partita:84 salvata\n",
      "partita:85 salvata\n",
      "partita:86 salvata\n",
      "partita:87 salvata\n",
      "partita:88 salvata\n",
      "partita:89 salvata\n",
      "partita:90 salvata\n",
      "partita:91 salvata\n",
      "partita:92 salvata\n",
      "partita:93 salvata\n",
      "partita:94 salvata\n",
      "partita:95 salvata\n",
      "partita:96 salvata\n",
      "partita:97 salvata\n",
      "partita:98 salvata\n",
      "partita:99 salvata\n",
      "partita:100 salvata\n",
      "partita:101 salvata\n",
      "partita:102 salvata\n",
      "partita:103 salvata\n",
      "partita:104 salvata\n",
      "partita:105 salvata\n",
      "partita:106 salvata\n",
      "partita:107 salvata\n",
      "partita:108 salvata\n",
      "partita:109 salvata\n",
      "partita:110 salvata\n",
      "partita:111 salvata\n",
      "partita:112 salvata\n",
      "partita:113 salvata\n",
      "partita:114 salvata\n",
      "partita:115 salvata\n",
      "partita:116 salvata\n",
      "partita:117 salvata\n",
      "partita:118 salvata\n",
      "partita:119 salvata\n",
      "partita:120 salvata\n",
      "partita:121 salvata\n",
      "partita:122 salvata\n",
      "partita:123 salvata\n",
      "partita:124 salvata\n",
      "partita:125 salvata\n",
      "partita:126 salvata\n",
      "partita:127 salvata\n",
      "partita:128 salvata\n",
      "partita:129 salvata\n",
      "partita:130 salvata\n",
      "partita:131 salvata\n",
      "partita:132 salvata\n",
      "partita:133 salvata\n",
      "partita:134 salvata\n",
      "partita:135 salvata\n",
      "partita:136 salvata\n",
      "partita:137 salvata\n",
      "partita:138 salvata\n",
      "partita:139 salvata\n",
      "partita:140 salvata\n",
      "partita:141 salvata\n",
      "partita:142 salvata\n",
      "partita:143 salvata\n",
      "partita:144 salvata\n",
      "partita:145 salvata\n",
      "partita:146 salvata\n",
      "partita:147 salvata\n",
      "partita:148 salvata\n",
      "partita:149 salvata\n",
      "partita:150 salvata\n",
      "partita:151 salvata\n",
      "partita:152 salvata\n",
      "partita:153 salvata\n",
      "partita:154 salvata\n",
      "partita:155 salvata\n",
      "partita:156 salvata\n",
      "partita:157 salvata\n",
      "partita:158 salvata\n",
      "partita:159 salvata\n",
      "partita:160 salvata\n",
      "partita:161 salvata\n",
      "partita:162 salvata\n",
      "partita:163 salvata\n",
      "partita:164 salvata\n",
      "partita:165 salvata\n",
      "partita:166 salvata\n",
      "partita:167 salvata\n",
      "partita:168 salvata\n",
      "partita:169 salvata\n",
      "partita:170 salvata\n",
      "partita:171 salvata\n",
      "partita:172 salvata\n",
      "partita:173 salvata\n",
      "partita:174 salvata\n",
      "partita:175 salvata\n",
      "partita:176 salvata\n",
      "partita:177 salvata\n",
      "partita:178 salvata\n",
      "partita:179 salvata\n",
      "partita:180 salvata\n",
      "partita:181 salvata\n",
      "partita:182 salvata\n",
      "partita:183 salvata\n",
      "partita:184 salvata\n",
      "partita:185 salvata\n",
      "partita:186 salvata\n",
      "partita:187 salvata\n",
      "partita:188 salvata\n",
      "partita:189 salvata\n",
      "partita:190 salvata\n",
      "partita:191 salvata\n",
      "partita:192 salvata\n",
      "partita:193 salvata\n",
      "partita:194 salvata\n",
      "partita:195 salvata\n",
      "partita:196 salvata\n",
      "partita:197 salvata\n",
      "partita:198 salvata\n",
      "partita:199 salvata\n",
      "partita:200 salvata\n",
      "partita:201 salvata\n",
      "partita:202 salvata\n",
      "partita:203 salvata\n",
      "partita:204 salvata\n",
      "partita:205 salvata\n",
      "partita:206 salvata\n",
      "partita:207 salvata\n",
      "partita:208 salvata\n",
      "partita:209 salvata\n",
      "partita:210 salvata\n",
      "partita:211 salvata\n",
      "partita:212 salvata\n",
      "partita:213 salvata\n",
      "partita:214 salvata\n",
      "partita:215 salvata\n",
      "partita:216 salvata\n",
      "partita:217 salvata\n",
      "partita:218 salvata\n",
      "partita:219 salvata\n",
      "partita:220 salvata\n",
      "partita:221 salvata\n",
      "partita:222 salvata\n",
      "partita:223 salvata\n",
      "partita:224 salvata\n",
      "partita:225 salvata\n",
      "partita:226 salvata\n",
      "partita:227 salvata\n",
      "partita:228 salvata\n",
      "partita:229 salvata\n",
      "partita:230 salvata\n",
      "partita:231 salvata\n",
      "partita:232 salvata\n",
      "partita:233 salvata\n",
      "partita:234 salvata\n",
      "partita:235 salvata\n",
      "partita:236 salvata\n",
      "partita:237 salvata\n",
      "partita:238 salvata\n",
      "partita:239 salvata\n"
     ]
    }
   ],
   "source": [
    "i = int()\n",
    "partite = []\n",
    "for par in playbyplay_list:\n",
    "    partite.append(playbyplay(playbyplay_list[i]))\n",
    "    print (\"partita:\"+ str(i) + \" salvata\")\n",
    "    i= i+1\n",
    "with open(\"dataset\\partita21.json\", \"w\") as file:\n",
    "   json.dump(partite, file, cls=PartitaEncoder)"
   ],
   "metadata": {
    "collapsed": false
   }
  },
  {
   "cell_type": "code",
   "execution_count": null,
   "outputs": [],
   "source": [
    "import csv\n",
    "import json\n",
    "squadre = {}\n",
    "with open(\"dataset/giocatori.csv\") as csvfile:\n",
    "    reader = csv.reader(csvfile)\n",
    "    next(reader)\n",
    "    for row in reader:\n",
    "        nome, _, squadra, _, _, _, _, _, _, _, _, _, _, _, _, _, _, _, _, _, _, _, _, _, _ = row\n",
    "        if squadra not in squadre:\n",
    "            squadre[squadra] = []\n",
    "        squadre[squadra].append(nome)\n",
    "with open(\"dataset/squadre.json\", \"w\") as jsonfile:\n",
    "    json.dump(squadre, jsonfile)"
   ],
   "metadata": {
    "collapsed": false
   }
  },
  {
   "cell_type": "code",
   "execution_count": null,
   "outputs": [],
   "source": [],
   "metadata": {
    "collapsed": false
   }
  }
 ],
 "metadata": {
  "colab": {
   "provenance": []
  },
  "kernelspec": {
   "display_name": "Python 3",
   "language": "python",
   "name": "python3"
  },
  "language_info": {
   "codemirror_mode": {
    "name": "ipython",
    "version": 3
   },
   "file_extension": ".py",
   "mimetype": "text/x-python",
   "name": "python",
   "nbconvert_exporter": "python",
   "pygments_lexer": "ipython3",
   "version": "3.10.9"
  },
  "vscode": {
   "interpreter": {
    "hash": "19d762ffc7d2f958e0963c75da0d959adf181f4ac62524ed3e80179df28269f1"
   }
  }
 },
 "nbformat": 4,
 "nbformat_minor": 5
}
