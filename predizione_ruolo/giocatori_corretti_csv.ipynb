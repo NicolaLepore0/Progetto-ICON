{
 "cells": [
  {
   "cell_type": "markdown",
   "source": [
    "Creo un file chiamato giocaotori_corretti nel quale attraverso il risultato ottenuto dal Gradient Boosting inserisco i ruoli ai giocatori senza ruoli per poterli classificare nella classifica dei giocatori in base al ruolo"
   ],
   "metadata": {
    "collapsed": false
   }
  },
  {
   "cell_type": "code",
   "execution_count": 1,
   "outputs": [
    {
     "name": "stdout",
     "output_type": "stream",
     "text": [
      "                 nome_giocatore  numero_giocatore                     squadra  \\\n",
      "0             abass_awudu_abass              55.0    virtus_segafredo_bologna   \n",
      "1    muhammad_ali_abdur_rahkman               5.0  carpegna_prosciutto_pesaro   \n",
      "2           dimitrios_agravanis               0.0          gevi_napoli_basket   \n",
      "3                  nicola_akele              45.0             germani_brescia   \n",
      "4                 davide_alviti              40.0   ea7_emporio_armani_milano   \n",
      "..                          ...               ...                         ...   \n",
      "244          alessandro_zanelli               6.0  nutribullet_treviso_basket   \n",
      "245            lorenzo_zangheri              11.0   dolomiti_energia_trentino   \n",
      "246              simone_zanotti              41.0          gevi_napoli_basket   \n",
      "247               andrea_zerini               0.0          gevi_napoli_basket   \n",
      "248                wei_lun_zhao              11.0         openjobmetis_varese   \n",
      "\n",
      "       ruolo  altezza  minuti  falli_c  falli_s  t2_r  t2_t  ...  t1_t  \\\n",
      "0        Ala      198       7        2        0     0     1  ...     0   \n",
      "1    Guardia      193      30        2        4     3     7  ...     3   \n",
      "2        Ala      208      23        2        4     2     4  ...     4   \n",
      "3        Ala      203      15        1        0     1     2  ...     0   \n",
      "4        Ala      200       8        0        0     0     1  ...     0   \n",
      "..       ...      ...     ...      ...      ...   ...   ...  ...   ...   \n",
      "244     Play      188      22        2        1     1     2  ...     1   \n",
      "245     Play        0       2        3        6     0     1  ...     0   \n",
      "246      Ala      208      11        1        0     0     1  ...     0   \n",
      "247      Ala      205      19        2        0     0     1  ...     0   \n",
      "248      Ala        0       1        0        0     0     0  ...     0   \n",
      "\n",
      "     t1_per  rim_o  rim_d  rim_t  stop_d  stop_s  palle_p  palle_r  ass  \n",
      "0         0      0      0      0       0       0        0        0   -3  \n",
      "1        75      1      2      3       0       0        2        3   17  \n",
      "2        59      1      3      4       1       0        1        1   10  \n",
      "3         0      1      1      2       0       0        0        0    3  \n",
      "4        75      0      1      1       0       0        0        0    0  \n",
      "..      ...    ...    ...    ...     ...     ...      ...      ...  ...  \n",
      "244      80      0      2      2       0       0        1        1    7  \n",
      "245       0      3      1      1      11       0        0        0    0  \n",
      "246      60      0      1      2       0       0        0        0    3  \n",
      "247      80      0      2      3       0       0        0        1    5  \n",
      "248       0      0      0      0       0       0        0        0    0  \n",
      "\n",
      "[249 rows x 25 columns]\n"
     ]
    }
   ],
   "source": [
    "import pandas as pd\n",
    "import numpy as np\n",
    "\n",
    "def convert_to_int(df):\n",
    "    for col in df.columns:\n",
    "        if df[col].dtype == 'float64' and not np.any(pd.isnull(df[col])):\n",
    "            df[col] = df[col].astype(int)\n",
    "    return df\n",
    "\n",
    "# crea un DataFrame con valori nulli\n",
    "giocatori_da_correggere = pd.read_csv('..\\dataset\\giocatori.csv')\n",
    "\n",
    "giocatori_da_correggere = convert_to_int(giocatori_da_correggere)\n",
    "# crea un array con i valori di sostituzione\n",
    "y_pred = ['Ala', 'Guardia', 'Ala', 'Guardia', 'Guardia', 'Ala', 'Play', 'Ala', 'Ala', 'Play', 'Play', 'Play', 'Ala', 'Play', 'Ala', 'Play', 'Centro', 'Guardia', 'Centro', 'Play', 'Play', 'Play', 'Guardia', 'Guardia', 'Guardia', 'Guardia', 'Play', 'Ala', 'Ala', 'Play', 'Ala', 'Guardia']\n",
    "\n",
    "i = 0\n",
    "for index, row in giocatori_da_correggere.iterrows():\n",
    "    if pd.isnull(row['ruolo']):\n",
    "        if i < len(y_pred):\n",
    "            giocatori_da_correggere.at[index, 'ruolo'] = y_pred[i]\n",
    "            i += 1\n",
    "            if i == len(y_pred)-1:\n",
    "                i=0\n",
    "        else:\n",
    "            giocatori_da_correggere.at[index, 'ruolo'] = np.nan\n",
    "giocatori_da_correggere.fillna(0, inplace=True)\n",
    "giocatori_da_correggere.to_csv('..\\dataset\\giocatori_corretti.csv', index=False)\n",
    "\n",
    "# stampa il DataFrame per vedere i risultati\n",
    "print(giocatori_da_correggere)"
   ],
   "metadata": {
    "collapsed": false
   }
  },
  {
   "cell_type": "code",
   "execution_count": null,
   "outputs": [],
   "source": [],
   "metadata": {
    "collapsed": false
   }
  }
 ],
 "metadata": {
  "kernelspec": {
   "display_name": "Python 3",
   "language": "python",
   "name": "python3"
  },
  "language_info": {
   "codemirror_mode": {
    "name": "ipython",
    "version": 2
   },
   "file_extension": ".py",
   "mimetype": "text/x-python",
   "name": "python",
   "nbconvert_exporter": "python",
   "pygments_lexer": "ipython2",
   "version": "2.7.6"
  }
 },
 "nbformat": 4,
 "nbformat_minor": 0
}
