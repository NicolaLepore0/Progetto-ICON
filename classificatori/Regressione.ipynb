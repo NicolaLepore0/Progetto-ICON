{
 "cells": [
  {
   "cell_type": "code",
   "execution_count": 1,
   "metadata": {
    "collapsed": true,
    "pycharm": {
     "name": "#%%\n"
    }
   },
   "outputs": [
    {
     "name": "stdout",
     "output_type": "stream",
     "text": [
      "Accuracy: 0.61 (+/- 0.11)\n"
     ]
    },
    {
     "name": "stderr",
     "output_type": "stream",
     "text": [
      "C:\\Users\\feder\\Desktop\\Progetto-ICON-mappazone\\classificatori\\Utility.py:41: SettingWithCopyWarning: \n",
      "A value is trying to be set on a copy of a slice from a DataFrame.\n",
      "Try using .loc[row_indexer,col_indexer] = value instead\n",
      "\n",
      "See the caveats in the documentation: https://pandas.pydata.org/pandas-docs/stable/user_guide/indexing.html#returning-a-view-versus-a-copy\n",
      "  df.loc[:, float_cols] = df[float_cols].mul(factor, axis=0)\n",
      "C:\\Users\\feder\\Desktop\\Progetto-ICON-mappazone\\classificatori\\Utility.py:41: SettingWithCopyWarning: \n",
      "A value is trying to be set on a copy of a slice from a DataFrame.\n",
      "Try using .loc[row_indexer,col_indexer] = value instead\n",
      "\n",
      "See the caveats in the documentation: https://pandas.pydata.org/pandas-docs/stable/user_guide/indexing.html#returning-a-view-versus-a-copy\n",
      "  df.loc[:, float_cols] = df[float_cols].mul(factor, axis=0)\n"
     ]
    }
   ],
   "source": [
    "from Utility import *\n",
    "from sklearn.linear_model import LogisticRegression\n",
    "from sklearn.model_selection import cross_val_score\n",
    "#Se non scalo la x non converge.\n",
    "from sklearn.preprocessing import StandardScaler\n",
    "\n",
    "giocatori = pd.read_csv(os.path.realpath('..\\dataset\\giocatori.csv'))\n",
    "\n",
    "giocatori = giocatori.drop('nome_giocatore', axis = 1)\n",
    "giocatori = giocatori.drop('numero_giocatore', axis = 1)\n",
    "giocatori = giocatori.drop('squadra', axis = 1)\n",
    "giocatori = giocatori.drop('RIM_D', axis = 1)\n",
    "giocatori = giocatori.drop('RIM_O', axis = 1)\n",
    "giocatori = giocatori.drop('T1_PER', axis = 1)\n",
    "giocatori = giocatori.drop('T2_PER', axis = 1)\n",
    "giocatori = giocatori.drop('T3_PER', axis = 1)\n",
    "\n",
    "players_without_role = giocatori.loc[(giocatori[\"ruolo\"].isnull()) | (giocatori[\"ruolo\"] == \"NaN\")]\n",
    "players_without_role = players_without_role.drop('ruolo', axis = 1)\n",
    "\n",
    "giocatori = giocatori.dropna()\n",
    "\n",
    "players_without_role = scale_cols(players_without_role, 'minuti')\n",
    "players_without_role = players_without_role.drop('minuti', axis = 1)\n",
    "players_without_role[\"altezza\"] = players_without_role[\"altezza\"].replace(0, np.nan, inplace=True)\n",
    "\n",
    "giocatori = scale_cols(giocatori, 'minuti')\n",
    "giocatori = giocatori.drop('minuti', axis = 1)\n",
    "\n",
    "x = giocatori.drop('ruolo', axis=1)\n",
    "y = giocatori['ruolo']\n",
    "\n",
    "scaler = StandardScaler()\n",
    "x_scal = scaler.fit_transform(x)\n",
    "#########\n",
    "LR = LogisticRegression(max_iter=1000)\n",
    "LR.fit(x_scal, y)\n",
    "\n",
    "scores = cross_val_score(LR, x_scal, y, cv=5)\n",
    "\n",
    "print(\"Accuracy: %0.2f (+/- %0.2f)\" % (scores.mean(), scores.std() * 2))"
   ]
  }
 ],
 "metadata": {
  "kernelspec": {
   "display_name": "Python 3",
   "language": "python",
   "name": "python3"
  },
  "language_info": {
   "codemirror_mode": {
    "name": "ipython",
    "version": 2
   },
   "file_extension": ".py",
   "mimetype": "text/x-python",
   "name": "python",
   "nbconvert_exporter": "python",
   "pygments_lexer": "ipython2",
   "version": "2.7.6"
  }
 },
 "nbformat": 4,
 "nbformat_minor": 0
}