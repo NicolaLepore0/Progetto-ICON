{
 "cells": [
  {
   "cell_type": "code",
   "execution_count": 1,
   "metadata": {
    "collapsed": true,
    "pycharm": {
     "name": "#%%\n"
    }
   },
   "outputs": [
    {
     "name": "stderr",
     "output_type": "stream",
     "text": [
      "C:\\Users\\feder\\Desktop\\Progetto-ICON-mappazone\\classificatori\\Utility.py:41: SettingWithCopyWarning: \n",
      "A value is trying to be set on a copy of a slice from a DataFrame.\n",
      "Try using .loc[row_indexer,col_indexer] = value instead\n",
      "\n",
      "See the caveats in the documentation: https://pandas.pydata.org/pandas-docs/stable/user_guide/indexing.html#returning-a-view-versus-a-copy\n",
      "  df.loc[:, float_cols] = df[float_cols].mul(factor, axis=0)\n",
      "C:\\Users\\feder\\Desktop\\Progetto-ICON-mappazone\\classificatori\\Utility.py:41: SettingWithCopyWarning: \n",
      "A value is trying to be set on a copy of a slice from a DataFrame.\n",
      "Try using .loc[row_indexer,col_indexer] = value instead\n",
      "\n",
      "See the caveats in the documentation: https://pandas.pydata.org/pandas-docs/stable/user_guide/indexing.html#returning-a-view-versus-a-copy\n",
      "  df.loc[:, float_cols] = df[float_cols].mul(factor, axis=0)\n"
     ]
    },
    {
     "name": "stdout",
     "output_type": "stream",
     "text": [
      "Best max_depth value: 2.0\n",
      "Best random_state value: 256.0\n",
      "Cross-validation scores: [0.73809524 0.73809524 0.80952381 0.65853659 0.58536585]\n",
      "Average cross-validation score: 0.71 +/- 0.08\n",
      "Accuracy: 71.43%\n"
     ]
    }
   ],
   "source": [
    "from sklearn.model_selection import cross_val_score\n",
    "from Utility import *\n",
    "from sklearn.ensemble import RandomForestClassifier\n",
    "from sklearn.datasets import make_classification\n",
    "\n",
    "giocatori = pd.read_csv(os.path.realpath('..\\dataset\\giocatori.csv'))\n",
    "\n",
    "giocatori = giocatori.drop('nome_giocatore', axis = 1)\n",
    "giocatori = giocatori.drop('numero_giocatore', axis = 1)\n",
    "giocatori = giocatori.drop('squadra', axis = 1)\n",
    "giocatori = giocatori.drop('RIM_D', axis = 1)\n",
    "giocatori = giocatori.drop('RIM_O', axis = 1)\n",
    "giocatori = giocatori.drop('T1_PER', axis = 1)\n",
    "giocatori = giocatori.drop('T2_PER', axis = 1)\n",
    "giocatori = giocatori.drop('T3_PER', axis = 1)\n",
    "\n",
    "players_without_role = giocatori.loc[(giocatori[\"ruolo\"].isnull()) | (giocatori[\"ruolo\"] == \"NaN\")]\n",
    "players_without_role = players_without_role.drop('ruolo', axis = 1)\n",
    "\n",
    "giocatori = giocatori.dropna()\n",
    "\n",
    "players_without_role = scale_cols(players_without_role, 'minuti')\n",
    "players_without_role = players_without_role.drop('minuti', axis = 1)\n",
    "players_without_role[\"altezza\"] = players_without_role[\"altezza\"].replace(0, np.nan, inplace=True)\n",
    "\n",
    "giocatori = scale_cols(giocatori, 'minuti')\n",
    "giocatori = giocatori.drop('minuti', axis = 1)\n",
    "\n",
    "x = giocatori.drop('ruolo', axis=1)\n",
    "y = giocatori['ruolo']\n",
    "x_train, x_test, y_train, y_test = train_test_split(x, y, test_size=0.1,random_state=100)\n",
    "\n",
    "# Define a range of values to test for max_depth\n",
    "max_depth_values = [2, 4, 6, 8, 10]\n",
    "\n",
    "# Define a range of values to test for random_state\n",
    "random_state_values = [0, 4, 16, 64, 256, 1024,4096]\n",
    "\n",
    "# Store the mean cross-validation scores for each combination of max_depth and random_state\n",
    "scores = []\n",
    "for max_depth in max_depth_values:\n",
    "    for random_state in random_state_values:\n",
    "        RFC = RandomForestClassifier(max_depth=max_depth, random_state=random_state)\n",
    "        cv_scores = cross_val_score(RFC, x, y, cv=5)\n",
    "        scores.append((max_depth, random_state, cv_scores.mean()))\n",
    "\n",
    "# Convert the scores list to a numpy array\n",
    "scores = np.array(scores)\n",
    "\n",
    "# Get the index of the maximum score\n",
    "best_index = np.argmax(scores[:,2])\n",
    "\n",
    "# Get the best max_depth and random_state values\n",
    "best_max_depth = scores[best_index, 0]\n",
    "best_random_state = scores[best_index, 1]\n",
    "\n",
    "# Print the best max_depth and random_state values\n",
    "print(\"Best max_depth value: {}\".format(best_max_depth))\n",
    "print(\"Best random_state value: {}\".format(best_random_state))\n",
    "\n",
    "RFC = RandomForestClassifier(max_depth=int(best_max_depth), random_state=int(best_random_state))\n",
    "RFC.fit(x, y)\n",
    "scores = cross_val_score(RFC, x, y, cv=5)\n",
    "print(\"Cross-validation scores: {}\".format(scores))\n",
    "print(\"Average cross-validation score: {:.2f} +/- {:.2f}\".format(scores.mean(), scores.std()))\n",
    "\n",
    "\n",
    "from sklearn.metrics import accuracy_score\n",
    "# Predict the labels of the test data\n",
    "y_pred = RFC.predict(x_test)\n",
    "\n",
    "# Calculate the accuracy on the test data\n",
    "accuracy = accuracy_score(y_test, y_pred)\n",
    "\n",
    "# Print the accuracy\n",
    "print(\"Accuracy: {:.2f}%\".format(accuracy * 100))"
   ]
  }
 ],
 "metadata": {
  "kernelspec": {
   "display_name": "Python 3",
   "language": "python",
   "name": "python3"
  },
  "language_info": {
   "codemirror_mode": {
    "name": "ipython",
    "version": 2
   },
   "file_extension": ".py",
   "mimetype": "text/x-python",
   "name": "python",
   "nbconvert_exporter": "python",
   "pygments_lexer": "ipython2",
   "version": "2.7.6"
  }
 },
 "nbformat": 4,
 "nbformat_minor": 0
}