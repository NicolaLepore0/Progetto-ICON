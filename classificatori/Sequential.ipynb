{
 "cells": [
  {
   "cell_type": "code",
   "execution_count": 1,
   "metadata": {
    "collapsed": true,
    "pycharm": {
     "name": "#%%\n"
    }
   },
   "outputs": [
    {
     "name": "stderr",
     "output_type": "stream",
     "text": [
      "C:\\Users\\feder\\Desktop\\Progetto-ICON-mappazone\\classificatori\\Utility.py:41: SettingWithCopyWarning: \n",
      "A value is trying to be set on a copy of a slice from a DataFrame.\n",
      "Try using .loc[row_indexer,col_indexer] = value instead\n",
      "\n",
      "See the caveats in the documentation: https://pandas.pydata.org/pandas-docs/stable/user_guide/indexing.html#returning-a-view-versus-a-copy\n",
      "  df.loc[:, float_cols] = df[float_cols].mul(factor, axis=0)\n",
      "C:\\Users\\feder\\Desktop\\Progetto-ICON-mappazone\\classificatori\\Utility.py:41: SettingWithCopyWarning: \n",
      "A value is trying to be set on a copy of a slice from a DataFrame.\n",
      "Try using .loc[row_indexer,col_indexer] = value instead\n",
      "\n",
      "See the caveats in the documentation: https://pandas.pydata.org/pandas-docs/stable/user_guide/indexing.html#returning-a-view-versus-a-copy\n",
      "  df.loc[:, float_cols] = df[float_cols].mul(factor, axis=0)\n",
      "C:\\Users\\feder\\AppData\\Local\\Temp\\ipykernel_20216\\239889814.py:53: DeprecationWarning: KerasClassifier is deprecated, use Sci-Keras (https://github.com/adriangb/scikeras) instead. See https://www.adriangb.com/scikeras/stable/migration.html for help migrating.\n",
      "  model = KerasClassifier(build_fn=create_model, epochs=1000, batch_size=32, verbose=0)\n"
     ]
    }
   ],
   "source": [
    "from Utility import *\n",
    "from sklearn.preprocessing import LabelEncoder\n",
    "\n",
    "from keras.models import Sequential\n",
    "from keras.layers import Dense\n",
    "from keras.utils import to_categorical\n",
    "\n",
    "from keras.wrappers.scikit_learn import KerasClassifier\n",
    "from sklearn.model_selection import GridSearchCV\n",
    "import numpy as np\n",
    "\n",
    "from sklearn.impute import SimpleImputer\n",
    "\n",
    "giocatori = pd.read_csv(os.path.realpath('..\\dataset\\giocatori.csv'))\n",
    "\n",
    "giocatori = giocatori.drop('nome_giocatore', axis = 1)\n",
    "giocatori = giocatori.drop('numero_giocatore', axis = 1)\n",
    "giocatori = giocatori.drop('squadra', axis = 1)\n",
    "giocatori = giocatori.drop('RIM_D', axis = 1)\n",
    "giocatori = giocatori.drop('RIM_O', axis = 1)\n",
    "giocatori = giocatori.drop('T1_PER', axis = 1)\n",
    "giocatori = giocatori.drop('T2_PER', axis = 1)\n",
    "giocatori = giocatori.drop('T3_PER', axis = 1)\n",
    "\n",
    "players_without_role = giocatori.loc[(giocatori[\"ruolo\"].isnull()) | (giocatori[\"ruolo\"] == \"NaN\")]\n",
    "players_without_role = players_without_role.drop('ruolo', axis = 1)\n",
    "\n",
    "giocatori = giocatori.dropna()\n",
    "\n",
    "players_without_role = scale_cols(players_without_role, 'minuti')\n",
    "players_without_role = players_without_role.drop('minuti', axis = 1)\n",
    "players_without_role[\"altezza\"] = players_without_role[\"altezza\"].replace(0, np.nan, inplace=True)\n",
    "\n",
    "giocatori = scale_cols(giocatori, 'minuti')\n",
    "giocatori = giocatori.drop('minuti', axis = 1)\n",
    "\n",
    "x = giocatori.drop('ruolo', axis=1)\n",
    "y = giocatori['ruolo']\n",
    "\n",
    "# Effettua la codifica one-hot, rende y un vettore [0,0,0,0]\n",
    "le = LabelEncoder()\n",
    "y = le.fit_transform(y)\n",
    "Y = to_categorical(y)\n",
    "\n",
    "def create_model(neurons_first_layer, neurons_second_layer):\n",
    "    model = Sequential()\n",
    "    model.add(Dense(neurons_first_layer, activation='relu', input_shape=(15,)))\n",
    "    model.add(Dense(neurons_second_layer, activation='relu'))\n",
    "    model.add(Dense(4, activation='softmax'))\n",
    "    model.compile(loss='categorical_crossentropy', optimizer='adam', metrics=['accuracy'])\n",
    "    return model\n",
    "\n",
    "model = KerasClassifier(build_fn=create_model, epochs=1000, batch_size=32, verbose=0)\n",
    "\n",
    "neurons_first_layer = [32, 64, 128]\n",
    "neurons_second_layer = [16, 32, 64]\n",
    "param_grid = dict(neurons_first_layer=neurons_first_layer, neurons_second_layer=neurons_second_layer)\n",
    "grid = GridSearchCV(estimator=model, param_grid=param_grid, n_jobs=-1)\n",
    "grid_result = grid.fit(x, Y)\n",
    "\n",
    "\n",
    "# Stampa dei risultati\n",
    "print(\"Migliori parametri: \", grid_result.best_params_)\n",
    "print(\"Miglior punteggio: \", grid_result.best_score_)\n",
    "\n",
    "imputer = SimpleImputer(strategy='mean')\n",
    "prova = imputer.fit_transform(players_without_role)\n",
    "y_pred = grid.predict(players_without_role)\n",
    "def predizione(pred):\n",
    "    strings = [\"Ala\", \"Play\", \"Centro\", \"Guardia\"]\n",
    "    return [strings[np.argmax(vector)] for vector in pred]\n",
    "\n",
    "print(predizione(y_pred))"
   ]
  },
  {
   "cell_type": "markdown",
   "source": [
    "MOTIVO DELL'ERRORE:\n",
    "Il modello di imputazione (in questo caso SimpleImputer) ha bisogno di valori numeri validi per poter funzionare.\n",
    "Se si desidera mantenere i dati None e non assegnare loro un valore, è possibile utilizzare una soluzione alternativa, ad esempio rimuovendo le righe che contengono dati mancanti o utilizzando un altro metodo di imputazione.\n",
    "Tuttavia, questo potrebbe avere un impatto sul modello e sulla sua capacità di fare previsioni accurate."
   ],
   "metadata": {
    "collapsed": false,
    "pycharm": {
     "name": "#%% md\n"
    }
   }
  },
  {
   "cell_type": "markdown",
   "source": [],
   "metadata": {
    "collapsed": false,
    "pycharm": {
     "name": "#%% md\n"
    }
   }
  }
 ],
 "metadata": {
  "kernelspec": {
   "display_name": "Python 3",
   "language": "python",
   "name": "python3"
  },
  "language_info": {
   "codemirror_mode": {
    "name": "ipython",
    "version": 2
   },
   "file_extension": ".py",
   "mimetype": "text/x-python",
   "name": "python",
   "nbconvert_exporter": "python",
   "pygments_lexer": "ipython2",
   "version": "2.7.6"
  }
 },
 "nbformat": 4,
 "nbformat_minor": 0
}