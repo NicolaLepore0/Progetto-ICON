{
 "cells": [
  {
   "cell_type": "markdown",
   "source": [
    "ES PROLOG FATTO DA CHATGPT:\n",
    "% Fatti\n",
    "team(warriors, \"Golden State\").\n",
    "team(lakers, \"Los Angeles\").\n",
    "team(bulls, \"Chicago\").\n",
    "\n",
    "player(\"Steph Curry\", warriors, 30).\n",
    "player(\"Klay Thompson\", warriors, 25).\n",
    "player(\"LeBron James\", lakers, 35).\n",
    "player(\"Anthony Davis\", lakers, 28).\n",
    "player(\"Zach LaVine\", bulls, 20).\n",
    "\n",
    "% Predicato per calcolare la media dei punti per squadra\n",
    "average_points(Team, Average) :-\n",
    "findall(Points, player(_, Team, Points), PointList),\n",
    "sumlist(PointList, Sum),\n",
    "length(PointList, Length),\n",
    "Average is Sum/Length.\n",
    "\n",
    "% Interrogazione\n",
    "?- average_points(Team, Average).\n",
    "\n",
    "Risultato:\n",
    "Team = warriors, Average = 27.5\n",
    "Team = lakers, Average = 31.5\n",
    "Team = bulls, Average = 20.0"
   ],
   "metadata": {
    "collapsed": false
   }
  },
  {
   "cell_type": "code",
   "execution_count": 5,
   "outputs": [
    {
     "name": "stdout",
     "output_type": "stream",
     "text": [
      "Collecting prologNote: you may need to restart the kernel to use updated packages.\n",
      "\n",
      "  Downloading prolog-0.3.1-py3-none-any.whl (13 kB)\n",
      "Collecting appdirs>=1.4.3\n",
      "  Downloading appdirs-1.4.4-py2.py3-none-any.whl (9.6 kB)\n",
      "Installing collected packages: appdirs, prolog\n",
      "Successfully installed appdirs-1.4.4 prolog-0.3.1\n"
     ]
    }
   ],
   "source": [
    "pip install prolog"
   ],
   "metadata": {
    "collapsed": false
   }
  },
  {
   "cell_type": "code",
   "execution_count": 8,
   "outputs": [],
   "source": [
    "import prolog\n",
    "import json"
   ],
   "metadata": {
    "collapsed": false
   }
  },
  {
   "cell_type": "code",
   "execution_count": 25,
   "outputs": [
    {
     "ename": "TypeError",
     "evalue": "list indices must be integers or slices, not str",
     "output_type": "error",
     "traceback": [
      "\u001B[1;31m---------------------------------------------------------------------------\u001B[0m",
      "\u001B[1;31mTypeError\u001B[0m                                 Traceback (most recent call last)",
      "Cell \u001B[1;32mIn[25], line 38\u001B[0m\n\u001B[0;32m     35\u001B[0m         partite\u001B[38;5;241m.\u001B[39mappend(partita)\n\u001B[0;32m     37\u001B[0m     \u001B[38;5;28;01mreturn\u001B[39;00m partite\n\u001B[1;32m---> 38\u001B[0m partite \u001B[38;5;241m=\u001B[39m \u001B[43mload_data\u001B[49m\u001B[43m(\u001B[49m\u001B[38;5;124;43m'\u001B[39;49m\u001B[38;5;124;43mdati/partita.json\u001B[39;49m\u001B[38;5;124;43m'\u001B[39;49m\u001B[43m)\u001B[49m\n\u001B[0;32m     40\u001B[0m \u001B[38;5;28mprint\u001B[39m(partite[\u001B[38;5;241m4\u001B[39m]\u001B[38;5;241m.\u001B[39msquadra_ospite)\n",
      "Cell \u001B[1;32mIn[25], line 25\u001B[0m, in \u001B[0;36mload_data\u001B[1;34m(file_path)\u001B[0m\n\u001B[0;32m     23\u001B[0m     data \u001B[38;5;241m=\u001B[39m json\u001B[38;5;241m.\u001B[39mload(file)\n\u001B[0;32m     24\u001B[0m partite \u001B[38;5;241m=\u001B[39m []\n\u001B[1;32m---> 25\u001B[0m \u001B[38;5;28;01mfor\u001B[39;00m partita_data \u001B[38;5;129;01min\u001B[39;00m \u001B[43mdata\u001B[49m\u001B[43m[\u001B[49m\u001B[38;5;124;43m'\u001B[39;49m\u001B[38;5;124;43mpartite\u001B[39;49m\u001B[38;5;124;43m'\u001B[39;49m\u001B[43m]\u001B[49m:\n\u001B[0;32m     26\u001B[0m     partita \u001B[38;5;241m=\u001B[39m Partita(partita_data[\u001B[38;5;124m'\u001B[39m\u001B[38;5;124msquadra_casa\u001B[39m\u001B[38;5;124m'\u001B[39m], partita_data[\u001B[38;5;124m'\u001B[39m\u001B[38;5;124msquadra_ospite\u001B[39m\u001B[38;5;124m'\u001B[39m],\n\u001B[0;32m     27\u001B[0m                       partita_data[\u001B[38;5;124m'\u001B[39m\u001B[38;5;124mrisultato_finale_host\u001B[39m\u001B[38;5;124m'\u001B[39m], partita_data[\u001B[38;5;124m'\u001B[39m\u001B[38;5;124mrisultato_finale_guest\u001B[39m\u001B[38;5;124m'\u001B[39m])\n\u001B[0;32m     28\u001B[0m     \u001B[38;5;28;01mfor\u001B[39;00m evento_data \u001B[38;5;129;01min\u001B[39;00m partita_data[\u001B[38;5;124m'\u001B[39m\u001B[38;5;124meventi\u001B[39m\u001B[38;5;124m'\u001B[39m]:\n",
      "\u001B[1;31mTypeError\u001B[0m: list indices must be integers or slices, not str"
     ]
    }
   ],
   "source": [
    "class Partita:\n",
    "    def __init__(self, squadra_casa, squadra_ospite, risultato_finale_host, risultato_finale_guest):\n",
    "        self.squadra_casa = squadra_casa\n",
    "        self.squadra_ospite = squadra_ospite\n",
    "        self.risultato_finale_host = risultato_finale_host\n",
    "        self.risultato_finale_guest = risultato_finale_guest\n",
    "        self.eventi = []\n",
    "class Evento:\n",
    "    def __init__(self, punti_casa, punti_ospite, evento, giocatore):\n",
    "        self.punti_casa = punti_casa\n",
    "        self.punti_ospite = punti_ospite\n",
    "        self.evento = evento\n",
    "        self.giocatore = giocatore\n",
    "class Giocatore:\n",
    "    def __init__(self, nome_giocatore, numero_giocatore, squadra):\n",
    "        self.nome_giocatore = nome_giocatore\n",
    "        self.numero_giocatore = numero_giocatore\n",
    "        self.squadra = squadra\n",
    "\n",
    "\n",
    "def load_data(file_path):\n",
    "    with open(file_path, 'r') as file:\n",
    "        data = json.load(file)\n",
    "    partite = []\n",
    "    for partita_data in data['partite']:\n",
    "        partita = Partita(partita_data['squadra_casa'], partita_data['squadra_ospite'],\n",
    "                          partita_data['risultato_finale_host'], partita_data['risultato_finale_guest'])\n",
    "        for evento_data in partita_data['eventi']:\n",
    "            giocatore = Giocatore(evento_data['giocatore']['nome_giocatore'],\n",
    "                                  evento_data['giocatore']['numero_giocatore'],\n",
    "                                  evento_data['giocatore']['squadra'])\n",
    "            evento = Evento(evento_data['punti_casa'], evento_data['punti_ospite'],\n",
    "                            evento_data['evento'], giocatore)\n",
    "            partita.eventi.append(evento)\n",
    "        partite.append(partita)\n",
    "\n",
    "    return partite\n",
    "partite = load_data('dati/partita.json')\n",
    "\n",
    "print(partite[4].squadra_ospite)\n"
   ],
   "metadata": {
    "collapsed": false
   }
  },
  {
   "cell_type": "code",
   "execution_count": null,
   "outputs": [],
   "source": [
    "\n",
    "\n",
    "\n",
    "giocatori = prolog.Term(\"giocatore(Nome, Numero, Squadra)\")\n",
    "b = prolog.Rule(\"giocatore_squadra(X,Y):-mother(Y,X),boy(X)\")\n",
    "\n",
    "giocatore_squadra(giocatore(Nome, Numero, Squadra), Squadra)"
   ],
   "metadata": {
    "collapsed": false
   }
  },
  {
   "cell_type": "markdown",
   "source": [],
   "metadata": {
    "collapsed": false
   }
  }
 ],
 "metadata": {
  "kernelspec": {
   "display_name": "Python 3",
   "language": "python",
   "name": "python3"
  },
  "language_info": {
   "codemirror_mode": {
    "name": "ipython",
    "version": 2
   },
   "file_extension": ".py",
   "mimetype": "text/x-python",
   "name": "python",
   "nbconvert_exporter": "python",
   "pygments_lexer": "ipython2",
   "version": "2.7.6"
  }
 },
 "nbformat": 4,
 "nbformat_minor": 0
}
