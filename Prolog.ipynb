{
 "cells": [
  {
   "cell_type": "markdown",
   "source": [
    "ES PROLOG FATTO DA CHATGPT:\n",
    "% Fatti\n",
    "team(warriors, \"Golden State\").\n",
    "team(lakers, \"Los Angeles\").\n",
    "team(bulls, \"Chicago\").\n",
    "\n",
    "player(\"Steph Curry\", warriors, 30).\n",
    "player(\"Klay Thompson\", warriors, 25).\n",
    "player(\"LeBron James\", lakers, 35).\n",
    "player(\"Anthony Davis\", lakers, 28).\n",
    "player(\"Zach LaVine\", bulls, 20).\n",
    "\n",
    "% Predicato per calcolare la media dei punti per squadra\n",
    "average_points(Team, Average) :-\n",
    "findall(Points, player(_, Team, Points), PointList),\n",
    "sumlist(PointList, Sum),\n",
    "length(PointList, Length),\n",
    "Average is Sum/Length.\n",
    "\n",
    "% Interrogazione\n",
    "?- average_points(Team, Average).\n",
    "\n",
    "Risultato:\n",
    "Team = warriors, Average = 27.5\n",
    "Team = lakers, Average = 31.5\n",
    "Team = bulls, Average = 20.0"
   ],
   "metadata": {
    "collapsed": false
   }
  },
  {
   "cell_type": "code",
   "execution_count": 5,
   "outputs": [
    {
     "name": "stdout",
     "output_type": "stream",
     "text": [
      "Collecting prologNote: you may need to restart the kernel to use updated packages.\n",
      "\n",
      "  Downloading prolog-0.3.1-py3-none-any.whl (13 kB)\n",
      "Collecting appdirs>=1.4.3\n",
      "  Downloading appdirs-1.4.4-py2.py3-none-any.whl (9.6 kB)\n",
      "Installing collected packages: appdirs, prolog\n",
      "Successfully installed appdirs-1.4.4 prolog-0.3.1\n"
     ]
    }
   ],
   "source": [
    "pip install prolog"
   ],
   "metadata": {
    "collapsed": false
   }
  },
  {
   "cell_type": "code",
   "execution_count": 7,
   "outputs": [],
   "source": [
    "import prolog"
   ],
   "metadata": {
    "collapsed": false
   }
  },
  {
   "cell_type": "code",
   "execution_count": null,
   "outputs": [],
   "source": [
    "\n",
    "\n",
    "\n",
    "giocatori = prolog.Term(\"giocatore(Nome, Numero, Squadra)\")\n",
    "b = prolog.Rule(\"giocatore_squadra(X,Y):-mother(Y,X),boy(X)\")\n",
    "\n",
    "giocatore_squadra(giocatore(Nome, Numero, Squadra), Squadra)"
   ],
   "metadata": {
    "collapsed": false
   }
  },
  {
   "cell_type": "markdown",
   "source": [],
   "metadata": {
    "collapsed": false
   }
  }
 ],
 "metadata": {
  "kernelspec": {
   "display_name": "Python 3",
   "language": "python",
   "name": "python3"
  },
  "language_info": {
   "codemirror_mode": {
    "name": "ipython",
    "version": 2
   },
   "file_extension": ".py",
   "mimetype": "text/x-python",
   "name": "python",
   "nbconvert_exporter": "python",
   "pygments_lexer": "ipython2",
   "version": "2.7.6"
  }
 },
 "nbformat": 4,
 "nbformat_minor": 0
}
