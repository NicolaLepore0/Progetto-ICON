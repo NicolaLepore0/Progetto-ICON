{
 "cells": [
  {
   "cell_type": "code",
   "execution_count": null,
   "metadata": {
    "collapsed": true
   },
   "outputs": [],
   "source": [
    "import random\n",
    "\n",
    "def simulate_shot(team_strength):\n",
    "    \"\"\"\n",
    "    Questa funzione simula un tiro, restituendo True se il tiro è andato a segno e False altrimenti.\n",
    "    Il team_strength viene utilizzato per determinare la probabilità di successo del tiro.\n",
    "    \"\"\"\n",
    "    return random.random() < team_strength\n",
    "\n",
    "def simulate_game(team1_strength, team2_strength):\n",
    "    \"\"\"\n",
    "    Questa funzione simula un gioco completo tra due squadre, restituendo il nome della squadra vincente.\n",
    "    \"\"\"\n",
    "    team1_points = 0\n",
    "    team2_points = 0\n",
    "\n",
    "    while True:\n",
    "        # Simula un tiro per la prima squadra\n",
    "        if simulate_shot(team1_strength):\n",
    "            team1_points += 1\n",
    "\n",
    "        # Se la prima squadra ha segnato 10 punti, restituisce il nome della squadra vincente\n",
    "        if team1_points >= 10:\n",
    "            return \"Team 1\"\n",
    "\n",
    "        # Simula un tiro per la seconda squadra\n",
    "        if simulate_shot(team2_strength):\n",
    "            team2_points += 1\n",
    "\n",
    "        # Se la seconda squadra ha segnato 10 punti, restituisce il nome della squadra vincente\n",
    "        if team2_points >= 10:\n",
    "            return \"Team 2\"\n",
    "\n",
    "# Esempio di utilizzo della funzione\n",
    "result = simulate_game(0.7, 0.6)\n",
    "print(result)\n"
   ]
  },
  {
   "cell_type": "markdown",
   "source": [
    "codice partita da 1 a inf\n",
    "se vince casa 1, se vince ospite 0\n",
    "vir per ogni giocatore della squadra\n"
   ],
   "metadata": {
    "collapsed": false
   }
  }
 ],
 "metadata": {
  "kernelspec": {
   "display_name": "Python 3",
   "language": "python",
   "name": "python3"
  },
  "language_info": {
   "codemirror_mode": {
    "name": "ipython",
    "version": 2
   },
   "file_extension": ".py",
   "mimetype": "text/x-python",
   "name": "python",
   "nbconvert_exporter": "python",
   "pygments_lexer": "ipython2",
   "version": "2.7.6"
  }
 },
 "nbformat": 4,
 "nbformat_minor": 0
}
